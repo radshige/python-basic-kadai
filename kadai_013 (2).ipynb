{
  "nbformat": 4,
  "nbformat_minor": 0,
  "metadata": {
    "colab": {
      "provenance": []
    },
    "kernelspec": {
      "name": "python3",
      "display_name": "Python 3"
    },
    "language_info": {
      "name": "python"
    }
  },
  "cells": [
    {
      "cell_type": "code",
      "execution_count": null,
      "metadata": {
        "colab": {
          "base_uri": "https://localhost:8080/"
        },
        "id": "oOY5gXzgDU0E",
        "outputId": "ada428fb-72c7-4105-ec12-eae99b5e9f0f"
      },
      "outputs": [
        {
          "output_type": "stream",
          "name": "stdout",
          "text": [
            "1320.0円\n"
          ]
        }
      ],
      "source": [
        "def calculate_total(price,tax):\n",
        "    total = price * tax\n",
        "    print(f\"{total}円\")\n",
        "\n",
        "calculate_total(1200,1.1)"
      ]
    },
    {
      "cell_type": "code",
      "source": [
        "def calculate_total(price,tax_rate):\n",
        "    total = price * (1+tax_rate)\n",
        "    print(f\"{total}円\")\n",
        "\n",
        "calculate_total(1200,0.1)"
      ],
      "metadata": {
        "colab": {
          "base_uri": "https://localhost:8080/"
        },
        "id": "BQA2BKQlqvWO",
        "outputId": "88fb2c87-9739-48c8-8657-cfdd790c43c5"
      },
      "execution_count": null,
      "outputs": [
        {
          "output_type": "stream",
          "name": "stdout",
          "text": [
            "1320.0円\n"
          ]
        }
      ]
    },
    {
      "cell_type": "code",
      "source": [
        "def calculate_total(price,tax_rate):\n",
        "    total = price * (1+tax_rate)\n",
        "    return total\n",
        "\n",
        "price_include_tax =calculate_total(1200, 0.1)\n",
        "print(f\"{price_include_tax}円\")"
      ],
      "metadata": {
        "colab": {
          "base_uri": "https://localhost:8080/"
        },
        "id": "4QiUTEoNJ2I6",
        "outputId": "f11aab4f-13c7-4b79-db5c-54b1490771a7"
      },
      "execution_count": 5,
      "outputs": [
        {
          "output_type": "stream",
          "name": "stdout",
          "text": [
            "1320.0円\n"
          ]
        }
      ]
    }
  ]
}