{
  "nbformat": 4,
  "nbformat_minor": 0,
  "metadata": {
    "colab": {
      "provenance": []
    },
    "kernelspec": {
      "name": "python3",
      "display_name": "Python 3"
    },
    "language_info": {
      "name": "python"
    }
  },
  "cells": [
    {
      "cell_type": "code",
      "execution_count": 3,
      "metadata": {
        "id": "I9WG7IpSXNoS",
        "colab": {
          "base_uri": "https://localhost:8080/"
        },
        "outputId": "734cbeab-b8b5-48ba-c917-7cb9e372ffb9"
      },
      "outputs": [
        {
          "output_type": "stream",
          "name": "stdout",
          "text": [
            "75.0cm3\n"
          ]
        }
      ],
      "source": [
        "上辺 = 10 #cm\n",
        "下辺 = 20 #cm\n",
        "高さ = 5 #cm\n",
        "\n",
        "面積 = (上辺 + 下辺) * 高さ / 2\n",
        "\n",
        "print(f\"{面積}cm3\")"
      ]
    }
  ]
}