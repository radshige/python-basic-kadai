{
  "cells": [
    {
      "cell_type": "code",
      "execution_count": 3,
      "metadata": {
        "colab": {
          "base_uri": "https://localhost:8080/"
        },
        "id": "I9WG7IpSXNoS",
        "outputId": "734cbeab-b8b5-48ba-c917-7cb9e372ffb9"
      },
      "outputs": [
        {
          "name": "stdout",
          "output_type": "stream",
          "text": [
            "75.0cm3\n"
          ]
        }
      ],
      "source": [
        "上辺 = 10 #cm\n",
        "下辺 = 20 #cm\n",
        "高さ = 5 #cm\n",
        "\n",
        "面積 = (上辺 + 下辺) * 高さ / 2\n",
        "\n",
        "print(f\"{面積}cm3\")"
      ]
    },
    {
      "cell_type": "markdown",
      "metadata": {},
      "source": []
    },
    {
      "cell_type": "markdown",
      "metadata": {},
      "source": []
    }
  ],
  "metadata": {
    "colab": {
      "provenance": []
    },
    "kernelspec": {
      "display_name": "Python 3",
      "name": "python3"
    },
    "language_info": {
      "name": "python"
    }
  },
  "nbformat": 4,
  "nbformat_minor": 0
}
