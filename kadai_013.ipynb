{
  "nbformat": 4,
  "nbformat_minor": 0,
  "metadata": {
    "colab": {
      "provenance": []
    },
    "kernelspec": {
      "name": "python3",
      "display_name": "Python 3"
    },
    "language_info": {
      "name": "python"
    }
  },
  "cells": [
    {
      "cell_type": "code",
      "execution_count": 1,
      "metadata": {
        "colab": {
          "base_uri": "https://localhost:8080/"
        },
        "id": "oOY5gXzgDU0E",
        "outputId": "ada428fb-72c7-4105-ec12-eae99b5e9f0f"
      },
      "outputs": [
        {
          "output_type": "stream",
          "name": "stdout",
          "text": [
            "1320.0円\n"
          ]
        }
      ],
      "source": [
        "def calculate_total(price,tax):\n",
        "    total = price * tax\n",
        "    print(f\"{total}円\")\n",
        "\n",
        "calculate_total(1200,1.1)"
      ]
    }
  ]
}